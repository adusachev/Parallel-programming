{
  "cells": [
    {
      "cell_type": "markdown",
      "metadata": {
        "id": "jZ-sgY7JAAl3"
      },
      "source": [
        "## Matrix Mul comparsion"
      ]
    },
    {
      "cell_type": "markdown",
      "metadata": {
        "id": "bQGqJlQ8PUVN"
      },
      "source": [
        "### Pycuda"
      ]
    },
    {
      "cell_type": "code",
      "execution_count": 2,
      "metadata": {
        "id": "W5U7Lf6tWk8M"
      },
      "outputs": [],
      "source": [
        "import numpy as np\n",
        "\n",
        "import pycuda.autoinit\n",
        "import pycuda.driver as drv\n",
        "from pycuda.compiler import SourceModule"
      ]
    },
    {
      "cell_type": "code",
      "execution_count": 3,
      "metadata": {
        "id": "rSvFt9XiAKrg"
      },
      "outputs": [],
      "source": [
        "\n",
        "kernel = SourceModule(\"\"\"\n",
        "__global__\n",
        "void MatrixMul(float* A, float* B, float* C, int mid_size, int width) {\n",
        "    /* \n",
        "        Matrix multiplication A * B = C\n",
        "    */\n",
        "    //extern __shared__ float shmem_A[BLOCK_SIZE * BLOCK_SIZE];\n",
        "    //extern __shared__ float shmem_B[BLOCK_SIZE * BLOCK_SIZE];\n",
        "    extern __shared__ float shmem_A[16 * 16];\n",
        "    extern __shared__ float shmem_B[16 * 16];\n",
        "\n",
        "    int col = blockIdx.x * blockDim.x + threadIdx.x;  // column num\n",
        "    int row = blockIdx.y * blockDim.y + threadIdx.y;  // line num\n",
        "\n",
        "    float res = .0f;\n",
        "\n",
        "    for (int k = 0; k < mid_size; k += blockDim.x) {\n",
        "        shmem_A[threadIdx.y * blockDim.x + threadIdx.x] = A[row * mid_size + k + threadIdx.x];\n",
        "        shmem_B[threadIdx.y * blockDim.x + threadIdx.x] = B[k * width + col + threadIdx.y * width];\n",
        "        __syncthreads();\n",
        "\n",
        "        for (int j = 0; j < blockDim.x; j++) {\n",
        "            res += shmem_A[threadIdx.y * blockDim.x + j] * shmem_B[j * blockDim.x + threadIdx.x];\n",
        "        }\n",
        "        __syncthreads();\n",
        "    }\n",
        "\n",
        "    C[row * width + col] = res;\n",
        "}\n",
        "\"\"\")\n",
        "\n",
        "func = kernel.get_function(\"MatrixMul\")\n"
      ]
    },
    {
      "cell_type": "code",
      "execution_count": 4,
      "metadata": {
        "id": "_b5JuHFMBJcK"
      },
      "outputs": [],
      "source": [
        "# A_height = 1280\n",
        "# A_width = 3840\n",
        "\n",
        "# B_height = 3840\n",
        "# B_width = 2560\n",
        "\n",
        "# C_height = 1280\n",
        "# C_width = 2560\n",
        "\n",
        "# mid_size = 3840\n",
        "\n",
        "##################\n",
        "\n",
        "A_height = 12800\n",
        "A_width = 12800\n",
        "\n",
        "B_height = 12800\n",
        "B_width = 12800\n",
        "\n",
        "C_height = 12800\n",
        "C_width = 12800\n",
        "\n",
        "mid_size = 12800"
      ]
    },
    {
      "cell_type": "code",
      "execution_count": 5,
      "metadata": {
        "id": "WESwlgh9BTvp"
      },
      "outputs": [],
      "source": [
        "# A = np.ones(A_height * A_width, dtype=np.float32)\n",
        "# B = np.ones(B_height * B_width, dtype=np.float32)\n",
        "\n",
        "# C = np.zeros(C_height * C_width, dtype=np.float32)"
      ]
    },
    {
      "cell_type": "code",
      "execution_count": 6,
      "metadata": {
        "id": "sJvWu6j6HVB1"
      },
      "outputs": [],
      "source": [
        "A = np.random.randint(low=1, high=10, size=A_height * A_width).astype(np.float32)\n",
        "B = np.random.randint(low=1, high=10, size=B_height * B_width).astype(np.float32)\n",
        "\n",
        "C = np.zeros(C_height * C_width, dtype=np.float32)"
      ]
    },
    {
      "cell_type": "code",
      "execution_count": 7,
      "metadata": {
        "id": "ZmR-zr-1UHs5"
      },
      "outputs": [],
      "source": [
        "A_matrix = A.reshape((A_height, A_width))\n",
        "B_matrix = B.reshape((B_height, B_width))"
      ]
    },
    {
      "cell_type": "code",
      "execution_count": 8,
      "metadata": {
        "colab": {
          "base_uri": "https://localhost:8080/"
        },
        "id": "MALpfRZ1B7YZ",
        "outputId": "ff8061ec-529c-497e-e1ed-0886a196a271"
      },
      "outputs": [
        {
          "data": {
            "text/plain": [
              "(800, 800)"
            ]
          },
          "execution_count": 8,
          "metadata": {},
          "output_type": "execute_result"
        }
      ],
      "source": [
        "blockSize_x = 16\n",
        "blockSize_y = 16\n",
        "\n",
        "numBlocks_x = (C_width + blockSize_x - 1) // blockSize_x\n",
        "numBlocks_y = (C_height + blockSize_y - 1) // blockSize_y\n",
        "\n",
        "numBlocks_x, numBlocks_y"
      ]
    },
    {
      "cell_type": "code",
      "execution_count": 9,
      "metadata": {
        "colab": {
          "base_uri": "https://localhost:8080/"
        },
        "id": "9re2OmH0ALTj",
        "outputId": "0d83b418-5ba9-446b-f86d-3dd062b03bcd"
      },
      "outputs": [
        {
          "name": "stdout",
          "output_type": "stream",
          "text": [
            "CPU times: user 8.18 s, sys: 380 ms, total: 8.56 s\n",
            "Wall time: 8.58 s\n"
          ]
        }
      ],
      "source": [
        "%%time\n",
        "\n",
        "func(\n",
        "    drv.In(A),\n",
        "    drv.In(B),\n",
        "    drv.Out(C),\n",
        "    np.int32(A_width),\n",
        "    np.int32(C_width),\n",
        "    block=(blockSize_x, blockSize_y, 1),\n",
        "    grid=(numBlocks_x, numBlocks_y),\n",
        "    shared=2 * blockSize_x * blockSize_x\n",
        ")"
      ]
    },
    {
      "cell_type": "code",
      "execution_count": 10,
      "metadata": {
        "colab": {
          "base_uri": "https://localhost:8080/"
        },
        "id": "H3F6s7X5ALZF",
        "outputId": "01ce287d-1b49-4bf1-c1e2-403cbc0dc887"
      },
      "outputs": [
        {
          "data": {
            "text/plain": [
              "array([318487., 318030., 319204., ..., 319392., 321063., 319981.],\n",
              "      dtype=float32)"
            ]
          },
          "execution_count": 10,
          "metadata": {},
          "output_type": "execute_result"
        }
      ],
      "source": [
        "C"
      ]
    },
    {
      "cell_type": "markdown",
      "metadata": {
        "id": "QLHqwTFgPYvq"
      },
      "source": [
        "### Numpy"
      ]
    },
    {
      "cell_type": "code",
      "execution_count": 11,
      "metadata": {
        "id": "DIh6BzIrHQgc"
      },
      "outputs": [],
      "source": [
        "A_matrix = A.reshape((A_height, A_width))\n",
        "B_matrix = B.reshape((B_height, B_width))"
      ]
    },
    {
      "cell_type": "code",
      "execution_count": 12,
      "metadata": {
        "colab": {
          "base_uri": "https://localhost:8080/"
        },
        "id": "_UL41KQTHQhl",
        "outputId": "1328c860-231f-4054-cafb-48d45e1bcdfd"
      },
      "outputs": [
        {
          "name": "stdout",
          "output_type": "stream",
          "text": [
            "CPU times: user 1min 38s, sys: 1.54 s, total: 1min 39s\n",
            "Wall time: 58.8 s\n"
          ]
        }
      ],
      "source": [
        "%%time\n",
        "C_numpy = A_matrix @ B_matrix"
      ]
    },
    {
      "cell_type": "code",
      "execution_count": 13,
      "metadata": {
        "colab": {
          "base_uri": "https://localhost:8080/"
        },
        "id": "Id-ZSKBvQ9_3",
        "outputId": "301c0822-6621-4e4e-be66-9fbaa5f6ccbf"
      },
      "outputs": [
        {
          "data": {
            "text/plain": [
              "array([[318487., 318030., 319204., ..., 319767., 320942., 320079.],\n",
              "       [314165., 312124., 312666., ..., 314434., 313645., 315405.],\n",
              "       [320241., 316501., 319138., ..., 321096., 322209., 321786.],\n",
              "       ...,\n",
              "       [318994., 315352., 317554., ..., 317301., 319059., 319545.],\n",
              "       [317697., 314528., 317115., ..., 318879., 317077., 317762.],\n",
              "       [318332., 317309., 318236., ..., 319392., 321063., 319981.]],\n",
              "      dtype=float32)"
            ]
          },
          "execution_count": 13,
          "metadata": {},
          "output_type": "execute_result"
        }
      ],
      "source": [
        "C_numpy"
      ]
    },
    {
      "cell_type": "code",
      "execution_count": 14,
      "metadata": {
        "colab": {
          "base_uri": "https://localhost:8080/"
        },
        "id": "PT6Lz_gHHQjB",
        "outputId": "14bf7bed-79e4-4e2a-efbd-baa5493b3031"
      },
      "outputs": [
        {
          "name": "stdout",
          "output_type": "stream",
          "text": [
            "Results form pycuda and numpy are equal: True\n"
          ]
        }
      ],
      "source": [
        "print(\"Results form pycuda and numpy are equal:\", np.all(np.ravel(C_numpy) == C))"
      ]
    },
    {
      "cell_type": "code",
      "execution_count": 12,
      "metadata": {
        "id": "jSQK70HNN-Uu"
      },
      "outputs": [],
      "source": []
    },
    {
      "cell_type": "markdown",
      "metadata": {
        "id": "-iC6sJgZPbfo"
      },
      "source": [
        "### Reikna"
      ]
    },
    {
      "cell_type": "code",
      "execution_count": 15,
      "metadata": {
        "id": "IV2x-H83P-GD"
      },
      "outputs": [],
      "source": [
        "from pycuda.gpuarray import dot, to_gpu\n",
        "\n",
        "from reikna.cluda import dtypes, any_api\n",
        "from reikna.linalg import MatrixMul"
      ]
    },
    {
      "cell_type": "code",
      "execution_count": 16,
      "metadata": {
        "id": "i-vP4SriOd2I"
      },
      "outputs": [],
      "source": [
        "api = any_api()\n",
        "thr = api.Thread.create()"
      ]
    },
    {
      "cell_type": "code",
      "execution_count": 17,
      "metadata": {
        "colab": {
          "base_uri": "https://localhost:8080/"
        },
        "id": "sirKQyreOd4y",
        "outputId": "cf72404f-5da4-4fe7-bd95-565d9a308dff"
      },
      "outputs": [
        {
          "name": "stdout",
          "output_type": "stream",
          "text": [
            "CPU times: user 6.8 s, sys: 164 ms, total: 6.96 s\n",
            "Wall time: 7.28 s\n"
          ]
        }
      ],
      "source": [
        "%%time\n",
        "\n",
        "mul = MatrixMul(to_gpu(A_matrix), to_gpu(B_matrix))\n",
        "dotc = mul.compile(thr)\n",
        "res_dev = thr.empty_like(A_matrix)\n",
        "\n",
        "dotc(res_dev, to_gpu(A_matrix), to_gpu(B_matrix))\n",
        "output = res_dev.get()"
      ]
    },
    {
      "cell_type": "code",
      "execution_count": 18,
      "metadata": {
        "colab": {
          "base_uri": "https://localhost:8080/"
        },
        "id": "q-CUKSKgOd7Y",
        "outputId": "b1010199-a927-48a8-d744-7f50cc643744"
      },
      "outputs": [
        {
          "data": {
            "text/plain": [
              "array([[318487., 318030., 319204., ..., 319767., 320942., 320079.],\n",
              "       [314165., 312124., 312666., ..., 314434., 313645., 315405.],\n",
              "       [320241., 316501., 319138., ..., 321096., 322209., 321786.],\n",
              "       ...,\n",
              "       [318994., 315352., 317554., ..., 317301., 319059., 319545.],\n",
              "       [317697., 314528., 317115., ..., 318879., 317077., 317762.],\n",
              "       [318332., 317309., 318236., ..., 319392., 321063., 319981.]],\n",
              "      dtype=float32)"
            ]
          },
          "execution_count": 18,
          "metadata": {},
          "output_type": "execute_result"
        }
      ],
      "source": [
        "output"
      ]
    },
    {
      "cell_type": "code",
      "execution_count": 19,
      "metadata": {
        "colab": {
          "base_uri": "https://localhost:8080/"
        },
        "id": "Gal7nLRpOd-z",
        "outputId": "1e8bbefa-245b-4c5a-f018-e1df1ebbeacb"
      },
      "outputs": [
        {
          "name": "stdout",
          "output_type": "stream",
          "text": [
            "Results form reikna and numpy are equal: True\n"
          ]
        }
      ],
      "source": [
        "print(\"Results form reikna and numpy are equal:\", np.all(C_numpy == output))"
      ]
    },
    {
      "cell_type": "code",
      "execution_count": 19,
      "metadata": {
        "id": "WzDLtNnNN-Xy"
      },
      "outputs": [],
      "source": []
    },
    {
      "cell_type": "markdown",
      "metadata": {
        "id": "vR14DwfCTQrR"
      },
      "source": [
        "### Pytorch"
      ]
    },
    {
      "cell_type": "code",
      "execution_count": 20,
      "metadata": {
        "id": "BmwSeJ9EN-bE"
      },
      "outputs": [],
      "source": [
        "import torch"
      ]
    },
    {
      "cell_type": "code",
      "execution_count": 21,
      "metadata": {
        "id": "t9q4dPjNT5xW"
      },
      "outputs": [],
      "source": [
        "a = torch.from_numpy(A_matrix)\n",
        "b = torch.from_numpy(B_matrix)"
      ]
    },
    {
      "cell_type": "code",
      "execution_count": 22,
      "metadata": {
        "colab": {
          "base_uri": "https://localhost:8080/"
        },
        "id": "rvbpQ4IPTSq_",
        "outputId": "85382404-c5d0-4217-8848-de38bb2abbae"
      },
      "outputs": [
        {
          "name": "stdout",
          "output_type": "stream",
          "text": [
            "CPU times: user 2.76 s, sys: 1.13 s, total: 3.89 s\n",
            "Wall time: 3.89 s\n"
          ]
        }
      ],
      "source": [
        "%%time\n",
        "\n",
        "with torch.no_grad():\n",
        "    a_gpu = a.to('cuda:0')\n",
        "    b_gpu = b.to('cuda:0')\n",
        "    \n",
        "    output = torch.matmul(a_gpu, b_gpu).cpu()"
      ]
    },
    {
      "cell_type": "code",
      "execution_count": 23,
      "metadata": {
        "colab": {
          "base_uri": "https://localhost:8080/"
        },
        "id": "TQsA_V1vTSwX",
        "outputId": "27c6dcf6-c18b-4940-9d77-fb74b19f08eb"
      },
      "outputs": [
        {
          "data": {
            "text/plain": [
              "array([[318487., 318030., 319204., ..., 319767., 320942., 320079.],\n",
              "       [314165., 312124., 312666., ..., 314434., 313645., 315405.],\n",
              "       [320241., 316501., 319138., ..., 321096., 322209., 321786.],\n",
              "       ...,\n",
              "       [318994., 315352., 317554., ..., 317301., 319059., 319545.],\n",
              "       [317697., 314528., 317115., ..., 318879., 317077., 317762.],\n",
              "       [318332., 317309., 318236., ..., 319392., 321063., 319981.]],\n",
              "      dtype=float32)"
            ]
          },
          "execution_count": 23,
          "metadata": {},
          "output_type": "execute_result"
        }
      ],
      "source": [
        "output = output.numpy()\n",
        "output"
      ]
    },
    {
      "cell_type": "code",
      "execution_count": 24,
      "metadata": {
        "colab": {
          "base_uri": "https://localhost:8080/"
        },
        "id": "IPVIdPTwM8Pv",
        "outputId": "bfbc1d8b-8fd6-4bf4-dd52-592c8458f516"
      },
      "outputs": [
        {
          "name": "stdout",
          "output_type": "stream",
          "text": [
            "Results form pytorch and numpy are equal: True\n"
          ]
        }
      ],
      "source": [
        "print(\"Results form pytorch and numpy are equal:\", np.all(C_numpy == output))"
      ]
    },
    {
      "cell_type": "code",
      "execution_count": null,
      "metadata": {
        "id": "7MrIWnt3V3BP"
      },
      "outputs": [],
      "source": []
    }
  ],
  "metadata": {
    "accelerator": "GPU",
    "colab": {
      "provenance": []
    },
    "gpuClass": "standard",
    "kernelspec": {
      "display_name": "Python 3",
      "name": "python3"
    },
    "language_info": {
      "name": "python",
      "version": "3.8.10"
    }
  },
  "nbformat": 4,
  "nbformat_minor": 0
}
